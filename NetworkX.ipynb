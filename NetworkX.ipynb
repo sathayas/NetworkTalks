{
 "cells": [
  {
   "cell_type": "markdown",
   "metadata": {},
   "source": [
    "<img style=\"width: 300px; padding: 0px;\" src=\"Title_Graph.png\" alt=\"title pics\"/>\n",
    "\n",
    "\n",
    "<p style=\"text-align:center; font-size:40px; margin-bottom: 30px;\"><b> Network data with NetworkX </b></p>\n",
    "\n",
    "<p style=\"text-align:center; font-size:24px; margin-bottom: 32px;\"><b> Satoru Hayasaka, Ph.D.</b></p>\n",
    "\n",
    "\n",
    "<p style=\"text-align:center; font-size:18px; margin-bottom: 32px;\"><b>July 2, 2019</b></p>\n",
    "\n",
    "<hr style=\"height:5px;border:none\" />"
   ]
  },
  {
   "cell_type": "markdown",
   "metadata": {},
   "source": [
    "# 1. What is a network?\n",
    "<hr style=\"height:1px;border:none\" />\n",
    "\n",
    "A network consists of a collection of:\n",
    "\n",
    "  * **Nodes**: Also known as *vertices*. Nodes represent individual units. A node can be:\n",
    "     * A person (in a social network)\n",
    "     * A gene (in a gene expression network)\n",
    "     * A computer server (in a computer network)\n",
    "     * And so on...\n",
    "  * **Edges**: Also known as *arcs* or *connections*. Edges represent relationships between units. An edge can be \n",
    "     * A friendship between people (in a social network)\n",
    "     * A gene-gene association (in a gene expression network) \n",
    "     * A cable (in a computer network)\n",
    "     * And so on...\n",
    "\n",
    "<img style=\"width: 600px; padding: 0px;\" src=\"Title_Graph.png\" alt=\"Sample network\"/>\n",
    "\n",
    "<p style=\"text-align:center; font-size:12px; margin-top: 5px; margin-left:50px; margin-right:50px; margin-bottom:30px\"> S&amp;P500 network: Nodes=companies, edges=strong correlations in stock prices. Visualized by Gephi. </p>\n",
    "\n",
    "\n",
    "**Network data** describe relationships among a collection of units. A network is also referred as a **graph**. To examine properties of networks, we use methods based on a branch of mathematics known as *graph theory*.\n",
    "\n",
    "## Simple example\n",
    "\n",
    "The **networkX** library has a number of utilities that are useful in handling network data. To demonstrate, let us start out with a simple network."
   ]
  },
  {
   "cell_type": "code",
   "execution_count": null,
   "metadata": {},
   "outputs": [],
   "source": [
    "%matplotlib inline"
   ]
  },
  {
   "cell_type": "code",
   "execution_count": null,
   "metadata": {},
   "outputs": [],
   "source": [
    "import networkx as nx\n",
    "import matplotlib.pyplot as plt\n",
    "\n",
    "# first, creating a graph\n",
    "G=nx.Graph()"
   ]
  },
  {
   "cell_type": "markdown",
   "metadata": {},
   "source": [
    "The function **`Graph`** under **`networkx`** creates a graph object. It is a network containing nodes and edges. Right now, it is empty since we just created. So let's add some nodes."
   ]
  },
  {
   "cell_type": "code",
   "execution_count": null,
   "metadata": {},
   "outputs": [],
   "source": [
    "# adding nodes\n",
    "G.add_node(1)  # single node\n",
    "G.add_nodes_from([2,3])  # multiple nodes\n",
    "G.add_nodes_from(list(range(3,8)))\n",
    "G.add_node('Boss')"
   ]
  },
  {
   "cell_type": "markdown",
   "metadata": {},
   "source": [
    "To add a single node, you can use the **`add_node`** method associated with the graph object **`G`**. To add multiple nodes at once, we can add **`add_nodes_from`** method. A node can have a numerical label or a string label when created. To get a list of nodes in `G`, you can use **`nodes()`** method."
   ]
  },
  {
   "cell_type": "code",
   "execution_count": null,
   "metadata": {},
   "outputs": [],
   "source": [
    "# a list of nodes\n",
    "print(G.nodes())"
   ]
  },
  {
   "cell_type": "markdown",
   "metadata": {},
   "source": [
    "Now that we have some nodes, we can introduce edges by connecting some of the nodes. To add a single edge, you can use the **`add_edge`** method associated with `G`. You can use multiple edges at once by using the **`add_edges_from`** method. "
   ]
  },
  {
   "cell_type": "code",
   "execution_count": null,
   "metadata": {},
   "outputs": [],
   "source": [
    "# adding edges\n",
    "G.add_edge(1,2)  # single edge\n",
    "G.add_edges_from([(1,2),(1,3),(5,7)])  # multiple edges"
   ]
  },
  {
   "cell_type": "markdown",
   "metadata": {},
   "source": [
    "We can also do some creative stuff. We can connect nodes (1,2), (2,3), (3,4) and so on."
   ]
  },
  {
   "cell_type": "code",
   "execution_count": null,
   "metadata": {},
   "outputs": [],
   "source": [
    "for iEdge in range(1,7):\n",
    "    G.add_edge(iEdge,iEdge+1)"
   ]
  },
  {
   "cell_type": "markdown",
   "metadata": {},
   "source": [
    "If some edges already exist (e.g., (1,2)), then `add_edge` and `add_edges_from` do not alter existing edges. You can use **`nodes()`** to iterate over nodes in a `for` loop too. Here, we are making connections between the `Boss` node with all the other nodes. "
   ]
  },
  {
   "cell_type": "code",
   "execution_count": null,
   "metadata": {},
   "outputs": [],
   "source": [
    "for i in G.nodes():\n",
    "    if i!='Boss':\n",
    "        G.add_edge('Boss',i)"
   ]
  },
  {
   "cell_type": "markdown",
   "metadata": {},
   "source": [
    "To get a list of edges in `G`, you can use the **`edges()`** method."
   ]
  },
  {
   "cell_type": "code",
   "execution_count": null,
   "metadata": {},
   "outputs": [],
   "source": [
    "# a list of edges\n",
    "print(G.edges())"
   ]
  },
  {
   "cell_type": "markdown",
   "metadata": {},
   "source": [
    "Say, if you are interested in connections originating from a certain node. Then you can do"
   ]
  },
  {
   "cell_type": "code",
   "execution_count": null,
   "metadata": {},
   "outputs": [],
   "source": [
    "# which nodes is Boss connected to\n",
    "print(G['Boss'])"
   ]
  },
  {
   "cell_type": "code",
   "execution_count": null,
   "metadata": {},
   "outputs": [],
   "source": [
    "# how about node 3\n",
    "print(G[3])"
   ]
  },
  {
   "cell_type": "markdown",
   "metadata": {},
   "source": [
    "Now we have a graph `G` with some nodes and edges, we can visualize the graph. The **`draw`** function produces a graph. "
   ]
  },
  {
   "cell_type": "code",
   "execution_count": null,
   "metadata": {},
   "outputs": [],
   "source": [
    "# drawing the graph\n",
    "nx.draw(G, with_labels=True)\n",
    "plt.show()"
   ]
  },
  {
   "cell_type": "markdown",
   "metadata": {},
   "source": [
    "# 2. Network data example\n",
    "<hr style=\"height:1px;border:none\" />\n",
    "\n",
    "Now let's take a look at one example of publicly available network data."
   ]
  },
  {
   "cell_type": "markdown",
   "metadata": {},
   "source": [
    "## Les Misérables interaction network\n",
    "\n",
    "This network data set **`lesmis.gml`** is from Mark Newman's [network data repository](http://www-personal.umich.edu/~mejn/netdata/). Each node in this network is a character from Victor Hugo's novel, Les Misérables. Edges represent interactions among characters. As you can imagine, the main character, Valjean, is the center of this network. "
   ]
  },
  {
   "cell_type": "code",
   "execution_count": null,
   "metadata": {},
   "outputs": [],
   "source": [
    "import networkx as nx\n",
    "import matplotlib.pyplot as plt\n",
    "\n",
    "# loading the Les Miserables network\n",
    "G = nx.read_gml('lesmis.gml')"
   ]
  },
  {
   "cell_type": "markdown",
   "metadata": {},
   "source": [
    "Here, we draw the network with the Kamada-Kawai algorithm, implemented as **`kamada_kawai_layout`** function. This algorithm attempts to place nodes so that strongly connected nodes are closer to each other. We provide the graph object **`G`** as the input parameter."
   ]
  },
  {
   "cell_type": "code",
   "execution_count": null,
   "metadata": {},
   "outputs": [],
   "source": [
    "# node placement --- Kamada-Kawai layout\n",
    "pos = nx.kamada_kawai_layout(G) # positions for all nodes"
   ]
  },
  {
   "cell_type": "markdown",
   "metadata": {},
   "source": [
    "This function returns the positions of all nodes stored in a dictionary. We use the position information **`pos`** in the functions to draw nodes, edges, and labels."
   ]
  },
  {
   "cell_type": "code",
   "execution_count": null,
   "metadata": {},
   "outputs": [],
   "source": [
    "# drawing the graph\n",
    "plt.figure(figsize=[9,9])\n",
    "nx.draw_networkx_nodes(G, pos)\n",
    "nx.draw_networkx_edges(G, pos, edge_color='lightblue')\n",
    "nx.draw_networkx_labels(G, pos, font_size=10, font_color='DarkGreen')\n",
    "plt.axis('off')\n",
    "plt.title('Les Miserables interaction network')\n",
    "plt.show()"
   ]
  },
  {
   "cell_type": "markdown",
   "metadata": {},
   "source": [
    "## Network size\n",
    "Just get a sense of the size of this network, we can calculate the number of nodes and edges."
   ]
  },
  {
   "cell_type": "code",
   "execution_count": null,
   "metadata": {},
   "outputs": [],
   "source": [
    "# Network sizes\n",
    "print(\"Number of nodes: %3d\" % len(G.nodes()))\n",
    "print(\"Number of edges: %3d\" % len(G.edges()))"
   ]
  },
  {
   "cell_type": "markdown",
   "metadata": {},
   "source": [
    "## Node degrees\n",
    "The number of connections at each node, known as node degree or simply degree, is a good way to summarize how connected a particular node is. For a graph object, there is a method to determine the degree at each node, called **`degree()`**."
   ]
  },
  {
   "cell_type": "code",
   "execution_count": null,
   "metadata": {},
   "outputs": [],
   "source": [
    "# degree sequence\n",
    "print(G.degree())"
   ]
  },
  {
   "cell_type": "markdown",
   "metadata": {},
   "source": [
    "As you can see, it returns a list of tuples, each corresponding to a node. Now let's determine who are *well-connected* in this network. This is determined by nodes with highest degrees."
   ]
  },
  {
   "cell_type": "code",
   "execution_count": null,
   "metadata": {},
   "outputs": [],
   "source": [
    "# finding the node with high degree\n",
    "k = [d for n, d in G.degree()]\n",
    "node = [n for n, d in G.degree()]\n",
    "sortedNodes = sorted(zip(node, k), key=lambda x: x[1],\n",
    "                     reverse=True)\n",
    "snode, sk = zip(*sortedNodes)"
   ]
  },
  {
   "cell_type": "markdown",
   "metadata": {},
   "source": [
    "The top 5 most connected nodes are:"
   ]
  },
  {
   "cell_type": "code",
   "execution_count": null,
   "metadata": {},
   "outputs": [],
   "source": [
    "print(snode[:5])"
   ]
  },
  {
   "cell_type": "markdown",
   "metadata": {},
   "source": [
    "And their degrees:"
   ]
  },
  {
   "cell_type": "code",
   "execution_count": null,
   "metadata": {},
   "outputs": [],
   "source": [
    "print(sk[:5])"
   ]
  },
  {
   "cell_type": "markdown",
   "metadata": {},
   "source": [
    "## Degree distribution\n",
    "\n",
    "Node degrees (or simply **degrees**) are highly heterogeneous in networks. While the vast majority of nodes only have a small number of connections, there are some hubs mediating a large number of connections, known as hubs. When we plot the distribution of degrees, then such hubs appear at the extreme tail of the distribution.\n",
    "\n",
    "To appreciate heterogeneity in node degrees, let's plot degree histograms from our example network data."
   ]
  },
  {
   "cell_type": "code",
   "execution_count": null,
   "metadata": {},
   "outputs": [],
   "source": [
    "# degree distribution\n",
    "plt.hist(k,bins=25)\n",
    "plt.title('Degree distribution')\n",
    "plt.xlabel('Degree')\n",
    "plt.ylabel('Frequency')\n",
    "plt.show()"
   ]
  },
  {
   "cell_type": "markdown",
   "metadata": {},
   "source": [
    "As you can see, the vast majority of nodes only have a few connections, but there are highly-connected hubs (e.g., Valjean with degree=36) mediating a large number of connections in a network."
   ]
  }
 ],
 "metadata": {
  "kernelspec": {
   "display_name": "Python 3",
   "language": "python",
   "name": "python3"
  },
  "language_info": {
   "codemirror_mode": {
    "name": "ipython",
    "version": 3
   },
   "file_extension": ".py",
   "mimetype": "text/x-python",
   "name": "python",
   "nbconvert_exporter": "python",
   "pygments_lexer": "ipython3",
   "version": "3.6.5"
  }
 },
 "nbformat": 4,
 "nbformat_minor": 2
}
