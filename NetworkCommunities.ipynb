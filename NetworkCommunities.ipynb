{
 "cells": [
  {
   "cell_type": "markdown",
   "metadata": {},
   "source": [
    "<img style=\"width: 300px; padding: 0px;\" src=\"ToyNetworkCommunities.png\" alt=\"title pics\"/>\n",
    "\n",
    "\n",
    "<p style=\"text-align:center; font-size:40px; margin-bottom: 30px;\"><b> Finding communities in a network </b></p>\n",
    "\n",
    "<p style=\"text-align:center; font-size:24px; margin-bottom: 32px;\"><b> Satoru Hayasaka, Ph.D.</b></p>\n",
    "\n",
    "\n",
    "<p style=\"text-align:center; font-size:18px; margin-bottom: 32px;\"><b>December 18, 2019</b></p>\n",
    "\n",
    "<hr style=\"height:5px;border:none\" />"
   ]
  },
  {
   "cell_type": "markdown",
   "metadata": {},
   "source": [
    "# Outline\n",
    "\n",
    "* What is a network?\n",
    "  * Nodes, edges, degree, etc\n",
    "  * Example networks\n",
    "     * Les Miserables network\n",
    "     * fMRI brain network\n",
    "     \n",
    "* Network communities\n",
    "  * Motivating example\n",
    "  * Why do we care?\n",
    "     * Santa Fe collaboration network\n",
    "  * How do we find communities\n",
    "     * Maximizing modularity\n",
    "     * Louvain method\n",
    "     \n",
    "* Application -- network communities\n",
    "  * Les Miserables network\n",
    "  * fMRI brain network"
   ]
  }
 ],
 "metadata": {
  "kernelspec": {
   "display_name": "Python 3",
   "language": "python",
   "name": "python3"
  },
  "language_info": {
   "codemirror_mode": {
    "name": "ipython",
    "version": 3
   },
   "file_extension": ".py",
   "mimetype": "text/x-python",
   "name": "python",
   "nbconvert_exporter": "python",
   "pygments_lexer": "ipython3",
   "version": "3.6.9"
  }
 },
 "nbformat": 4,
 "nbformat_minor": 2
}
