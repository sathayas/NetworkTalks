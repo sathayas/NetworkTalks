{
 "cells": [
  {
   "cell_type": "markdown",
   "metadata": {},
   "source": [
    "<img style=\"width: 300px; padding: 0px;\" src=\"ToyNetworkCommunities.png\" alt=\"title pics\"/>\n",
    "\n",
    "\n",
    "<p style=\"text-align:center; font-size:40px; margin-bottom: 30px;\"><b> Finding communities in a network </b></p>\n",
    "\n",
    "<p style=\"text-align:center; font-size:24px; margin-bottom: 32px;\"><b> Satoru Hayasaka, Ph.D.</b></p>\n",
    "\n",
    "\n",
    "<p style=\"text-align:center; font-size:18px; margin-bottom: 32px;\"><b>December 18, 2019</b></p>\n",
    "\n",
    "<hr style=\"height:5px;border:none\" />"
   ]
  },
  {
   "cell_type": "markdown",
   "metadata": {},
   "source": [
    "# 1. What is a network?\n",
    "<hr style=\"height:1px;border:none\" />\n",
    "\n",
    "A network consists of a collection of:\n",
    "\n",
    "  * **Nodes**: Also known as *vertices*. Nodes represent individual units. A node can be:\n",
    "     * A person (in a social network)\n",
    "     * A gene (in a gene expression network)\n",
    "     * A computer server (in a computer network)\n",
    "     * And so on...\n",
    "  * **Edges**: Also known as *arcs* or *connections*. Edges represent relationships between units. An edge can be \n",
    "     * A friendship between people (in a social network)\n",
    "     * A gene-gene association (in a gene expression network) \n",
    "     * A cable (in a computer network)\n",
    "     * And so on...\n",
    "\n",
    "<img style=\"width: 600px; padding: 0px;\" src=\"Title_Graph.png\" alt=\"Sample network\"/>\n",
    "\n",
    "<p style=\"text-align:center; font-size:12px; margin-top: 5px; margin-left:50px; margin-right:50px; margin-bottom:30px\"> S&amp;P500 network: Nodes=companies, edges=strong correlations in stock prices. Visualized by Gephi. </p>\n",
    "\n",
    "\n",
    "**Network data** describe relationships among a collection of units. A network is also referred as a **graph**. To examine properties of networks, we use methods based on a branch of mathematics known as *graph theory*.\n"
   ]
  },
  {
   "cell_type": "markdown",
   "metadata": {},
   "source": [
    "# Outline\n",
    "\n",
    "* What is a network?\n",
    "  * Nodes, edges, degree, etc\n",
    "  * Example networks\n",
    "     * Les Miserables network\n",
    "     * fMRI brain network\n",
    "     \n",
    "* Network communities\n",
    "  * Motivating example\n",
    "  * Why do we care?\n",
    "     * Santa Fe collaboration network\n",
    "  * How do we find communities\n",
    "     * Maximizing modularity\n",
    "     * Louvain method\n",
    "     \n",
    "* Application -- network communities\n",
    "  * Les Miserables network\n",
    "  * fMRI brain network"
   ]
  }
 ],
 "metadata": {
  "kernelspec": {
   "display_name": "Python 3",
   "language": "python",
   "name": "python3"
  },
  "language_info": {
   "codemirror_mode": {
    "name": "ipython",
    "version": 3
   },
   "file_extension": ".py",
   "mimetype": "text/x-python",
   "name": "python",
   "nbconvert_exporter": "python",
   "pygments_lexer": "ipython3",
   "version": "3.6.9"
  }
 },
 "nbformat": 4,
 "nbformat_minor": 2
}
